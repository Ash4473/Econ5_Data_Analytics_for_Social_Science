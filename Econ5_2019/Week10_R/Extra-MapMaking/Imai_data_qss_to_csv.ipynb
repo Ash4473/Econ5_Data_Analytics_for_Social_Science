{
 "cells": [
  {
   "cell_type": "markdown",
   "metadata": {},
   "source": [
    "This document is to convert the text data \"pres08\" downloaded from imai's github page to csv file: https://github.com/kosukeimai/qss/blob/master/DISCOVERY/pres08.csv"
   ]
  },
  {
   "cell_type": "code",
   "execution_count": 49,
   "metadata": {},
   "outputs": [],
   "source": [
    "import os\n",
    "import pandas as pd"
   ]
  },
  {
   "cell_type": "code",
   "execution_count": 50,
   "metadata": {},
   "outputs": [
    {
     "name": "stdout",
     "output_type": "stream",
     "text": [
      "/Users/arushikaushik/Desktop/GitHub2/Econ5_Data_Analytics_for_Social_Science/Econ5_2019/Week10_R/Extra-MapMaking\n"
     ]
    }
   ],
   "source": [
    "print(os.getcwd()) #Figuring out the current working directory\n",
    "#Changing the directory\n",
    "os.chdir(\"/Users/arushikaushik/Desktop/GitHub2/Econ5_Data_Analytics_for_Social_Science/Econ5_2019/Week10_R/Extra-MapMaking\")"
   ]
  },
  {
   "cell_type": "markdown",
   "metadata": {},
   "source": [
    "#### Converting txt file into csv"
   ]
  },
  {
   "cell_type": "code",
   "execution_count": 51,
   "metadata": {},
   "outputs": [],
   "source": [
    "## Reading txt into pandas\n",
    "df= pd.read_csv(\"pres08.txt\", delimiter= ',', names=['state.name', 'state', 'Obama', 'McCain', 'EV'])\n",
    "# df.head(5)"
   ]
  },
  {
   "cell_type": "code",
   "execution_count": 52,
   "metadata": {},
   "outputs": [],
   "source": [
    "df= df[1:] # to remove the first row with old names\n",
    "#df.head(5)"
   ]
  },
  {
   "cell_type": "code",
   "execution_count": 53,
   "metadata": {},
   "outputs": [
    {
     "data": {
      "text/plain": [
       "dtype('O')"
      ]
     },
     "execution_count": 53,
     "metadata": {},
     "output_type": "execute_result"
    }
   ],
   "source": [
    "df.EV.dtypes"
   ]
  },
  {
   "cell_type": "markdown",
   "metadata": {},
   "source": [
    "To remove \\ from the last column, I'll use nltk"
   ]
  },
  {
   "cell_type": "code",
   "execution_count": 54,
   "metadata": {},
   "outputs": [],
   "source": [
    "import nltk"
   ]
  },
  {
   "cell_type": "code",
   "execution_count": 55,
   "metadata": {},
   "outputs": [],
   "source": [
    "df[\"EV\"]= df[\"EV\"].str.replace(\"\\\\\", \"\") # \\ is used for specifying python commands. Hence, to declare that we do want \\, we need to use the backsplash twice"
   ]
  },
  {
   "cell_type": "markdown",
   "metadata": {},
   "source": [
    "Saving the dataset as csv file"
   ]
  },
  {
   "cell_type": "code",
   "execution_count": 56,
   "metadata": {},
   "outputs": [],
   "source": [
    "## Saving data in csv format\n",
    "filename= os.path.join(\"/Users/arushikaushik/Desktop/GitHub2/Econ5_Data_Analytics_for_Social_Science/Econ5_2019/Week10_R/Extra-MapMaking\", 'pres08.csv')\n",
    "df.to_csv(filename)"
   ]
  },
  {
   "cell_type": "markdown",
   "metadata": {},
   "source": [
    "#### Using the same commands as above for converting another dataset- walmart.csv "
   ]
  },
  {
   "cell_type": "markdown",
   "metadata": {},
   "source": [
    "https://github.com/kosukeimai/qss/blob/master/DISCOVERY/walmart.csv"
   ]
  },
  {
   "cell_type": "code",
   "execution_count": 57,
   "metadata": {},
   "outputs": [],
   "source": [
    "## Reading txt into pandas\n",
    "df2= pd.read_csv(\"walmart.txt\",  delimiter= ',', names=['opendate', 'st.address', 'city', 'state', 'long', 'lat', 'type'])\n",
    "#df2.head(5)"
   ]
  },
  {
   "cell_type": "code",
   "execution_count": 58,
   "metadata": {},
   "outputs": [],
   "source": [
    "# Removing row1 containuing old column names\n",
    "df2= df2[1:]\n",
    "#df2.head(10)"
   ]
  },
  {
   "cell_type": "code",
   "execution_count": 59,
   "metadata": {},
   "outputs": [],
   "source": [
    "# Removing \\ from last column\n",
    "df2[\"type\"]= df2[\"type\"].str.replace(\"\\\\\", \"\") # \\ is used for specifying python commands. Hence, to declare that we do want \\, we need to use the backsplash twice\n",
    "#df2.head(5)"
   ]
  },
  {
   "cell_type": "code",
   "execution_count": 60,
   "metadata": {},
   "outputs": [],
   "source": [
    "## Saving data in csv format\n",
    "filename= os.path.join(\"/Users/arushikaushik/Desktop/GitHub2/Econ5_Data_Analytics_for_Social_Science/Econ5_2019/Week10_R/Extra-MapMaking\", 'walmart.csv')\n",
    "df2.to_csv(filename)"
   ]
  }
 ],
 "metadata": {
  "kernelspec": {
   "display_name": "Python 3",
   "language": "python",
   "name": "python3"
  },
  "language_info": {
   "codemirror_mode": {
    "name": "ipython",
    "version": 3
   },
   "file_extension": ".py",
   "mimetype": "text/x-python",
   "name": "python",
   "nbconvert_exporter": "python",
   "pygments_lexer": "ipython3",
   "version": "3.8.5"
  }
 },
 "nbformat": 4,
 "nbformat_minor": 4
}
